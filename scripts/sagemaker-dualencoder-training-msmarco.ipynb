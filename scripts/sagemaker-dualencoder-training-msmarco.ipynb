{
 "cells": [
  {
   "cell_type": "markdown",
   "id": "9a947ae1",
   "metadata": {},
   "source": [
    "# Fine tuning BERT for information retrieval using Amazon Sagemaker "
   ]
  },
  {
   "cell_type": "markdown",
   "id": "8ce43908",
   "metadata": {},
   "source": [
    "## Clone the git repository to access and run the code"
   ]
  },
  {
   "cell_type": "code",
   "execution_count": null,
   "id": "868c26fd",
   "metadata": {},
   "outputs": [],
   "source": [
    "!git clone https://github.com/aws-samples/amazon-sagemaker-workshop-for-huggingface"
   ]
  },
  {
   "cell_type": "markdown",
   "id": "0bb93683",
   "metadata": {},
   "source": [
    "## Install and import dependencies"
   ]
  },
  {
   "cell_type": "code",
   "execution_count": null,
   "id": "389d8fb8",
   "metadata": {},
   "outputs": [],
   "source": [
    "import subprocess\n",
    "import sys\n",
    "\n",
    "def install(package):\n",
    "    subprocess.check_call([sys.executable, \"-q\", \"-m\", \"pip\", \"install\", package])\n",
    "    \n",
    "install('sentence_transformers')\n",
    "\n",
    "import json\n",
    "from torch.utils.data import DataLoader\n",
    "from sentence_transformers import SentenceTransformer, LoggingHandler, util, models, evaluation, losses, InputExample\n",
    "import logging\n",
    "from datetime import datetime\n",
    "import gzip\n",
    "import os\n",
    "import tarfile\n",
    "from collections import defaultdict\n",
    "from torch.utils.data import IterableDataset\n",
    "import tqdm\n",
    "from torch.utils.data import Dataset\n",
    "import random\n",
    "import pickle\n",
    "import argparse\n",
    "import sagemaker\n",
    "from sagemaker.pytorch import PyTorch\n",
    "from sagemaker import get_execution_role"
   ]
  },
  {
   "cell_type": "markdown",
   "id": "2d208d79",
   "metadata": {},
   "source": [
    "## Setup the Sagemaker session and the role"
   ]
  },
  {
   "cell_type": "code",
   "execution_count": 69,
   "id": "794bcbe0",
   "metadata": {},
   "outputs": [
    {
     "data": {
      "text/plain": [
       "'arn:aws:iam::445083327804:role/rekognition-immersion-day-sagemaker-ExecutionRole-1TWHELAV9NI44'"
      ]
     },
     "execution_count": 69,
     "metadata": {},
     "output_type": "execute_result"
    }
   ],
   "source": [
    "sess = sagemaker.Session()\n",
    "\n",
    "role = get_execution_role()\n",
    "role\n",
    "\n",
    "output_path = \"s3://\" + sess.default_bucket() + \"/nlp-dualencoder\"\n",
    "#output_path\n",
    "\n",
    "role"
   ]
  },
  {
   "cell_type": "markdown",
   "id": "d96515e9",
   "metadata": {},
   "source": [
    "## Sample Training input instance"
   ]
  },
  {
   "cell_type": "raw",
   "id": "4a7e1e97",
   "metadata": {},
   "source": [
    " 571018: {'qid': 571018,\n",
    "   'query': 'what are the liberal arts?',\n",
    "   'pos': [7349777],\n",
    "   'neg': {1065943, 1626276, 2524942, 6449111, 6948601}}\n",
    "   \n",
    "  ============================================================\n",
    "  \n",
    "   {571018: {'qid': 571018,\n",
    "  'query': 'what are the liberal arts?',\n",
    "  'pos_id': [7349777],\n",
    "  'pos_text': 'liberal arts. 1. the academic course of instruction at a college intended to provide general knowledge and comprising the arts, humanities, natural sciences, and social sciences, as opposed to professional or technical subjects.',\n",
    "  'neg': {1028927, 2305477, 5129919, 7349776},\n",
    "  'neg_text': {'A liberal arts college is a four-year institution that focuses on the study of liberal arts. Liberal arts colleges are geared more toward the acquisition of knowledge and less toward specific professions. [MORE: The Path to Higher Education] Graduate school.||',\n",
    "   'Liberal arts. Liberal arts, college or university curriculum aimed at imparting general knowledge and developing general intellectual capacities in contrast to a professional, vocational, or technical curriculum.||',\n",
    "   'The liberal arts education at the secondary school level prepares the student for higher education at a university. They are thus meant for the more academically minded students. In addition to the usual curriculum, students of a liberal arts education often study Latin and Ancient Greek. Some liberal arts education provide general education, others have a specific focus.||',\n",
    "   \"What Does it Mean to Study Liberal Arts? A liberal arts major offers a broad overview of the arts, sciences, and humanities. Within the context of a liberal arts degree, you can study modern languages, music, English, anthropology, history, women's studies, psychology, math, political science or many other disciplines.||\"}}\n",
    "   "
   ]
  },
  {
   "cell_type": "markdown",
   "id": "42986ca7",
   "metadata": {},
   "source": [
    "## Train the Bi-Encoder"
   ]
  },
  {
   "attachments": {
    "9E3E4C40-6F04-424F-ADEA-90FFBB1FAEC9_4_5005_c.jpeg": {
     "image/jpeg": "[encoded data removed]"
    },
    "F3457938-14F6-469C-A2FE-0698099F052E.jpeg": {
     "image/jpeg": "[encoded data removed]"
    }
   },
   "cell_type": "markdown",
   "id": "130839a5",
   "metadata": {},
   "source": [
    "![9E3E4C40-6F04-424F-ADEA-90FFBB1FAEC9_4_5005_c.jpeg](attachment:9E3E4C40-6F04-424F-ADEA-90FFBB1FAEC9_4_5005_c.jpeg)![F3457938-14F6-469C-A2FE-0698099F052E.jpeg](attachment:F3457938-14F6-469C-A2FE-0698099F052E.jpeg)"
   ]
  },
  {
   "cell_type": "markdown",
   "id": "79d9d6b6",
   "metadata": {},
   "source": [
    "#### References: https://www.sbert.net/examples/training/ms_marco/README.html"
   ]
  },
  {
   "cell_type": "code",
   "execution_count": null,
   "id": "bccc12ce",
   "metadata": {},
   "outputs": [],
   "source": [
    "local_mode = False\n",
    "\n",
    "if local_mode:\n",
    "    instance_type = \"local\"\n",
    "else:\n",
    "    instance_type = \"ml.m5.24xlarge\"\n",
    "\n",
    "est = PyTorch(\n",
    "    entry_point=\"nlp_loader_test.py\",\n",
    "    source_dir=\"code\",  # directory of your training script\n",
    "    role=role,\n",
    "    framework_version=\"1.5.0\",\n",
    "    py_version=\"py3\",\n",
    "    instance_type=instance_type,\n",
    "    instance_count=1,\n",
    "    volume_size=250,\n",
    "    output_path=output_path,\n",
    "    #hyperparameters={\"batch-size\": 128, \"epochs\": 1, \"learning-rate\": 1e-3, \"log-interval\": 100},\n",
    ")\n",
    "\n",
    "est.fit()"
   ]
  },
  {
   "cell_type": "markdown",
   "id": "d343e926",
   "metadata": {},
   "source": [
    "## Model Inference"
   ]
  },
  {
   "cell_type": "code",
   "execution_count": null,
   "id": "1c7dab76",
   "metadata": {},
   "outputs": [],
   "source": [
    "from sagemaker.huggingface.model import HuggingFaceModel\n",
    "\n",
    "# create Hugging Face Model Class\n",
    "huggingface_model = HuggingFaceModel(\n",
    "entry_point = 'inference.py',\n",
    "    source_dir=\"code\",\n",
    "   model_data='s3://sagemaker-us-east-1-445083327804/nlp-dualencoder/pytorch-training-2022-09-03-21-01-05-224/output/model.tar.gz',       # path to your model and script\n",
    "   role=role,                    # iam role with permissions to create an Endpoint\n",
    "   transformers_version=\"4.17.0\",  # transformers version used\n",
    "   pytorch_version=\"1.10.2\",        # pytorch version used\n",
    "   py_version='py38',            # python version used\n",
    ")\n",
    "\n"
   ]
  },
  {
   "cell_type": "markdown",
   "id": "568ce611",
   "metadata": {},
   "source": [
    "## Realtime endpoint for queries"
   ]
  },
  {
   "cell_type": "code",
   "execution_count": null,
   "id": "4beabfe7",
   "metadata": {},
   "outputs": [],
   "source": [
    "# deploy the endpoint endpoint\n",
    "predictor = huggingface_model.deploy(\n",
    "    initial_instance_count=1,\n",
    "    instance_type=\"ml.c5.xlarge\"\n",
    "    )\n",
    "query_vector = predictor.predict({\n",
    "\t'inputs': \"The answer to the universe is GOD.\"\n",
    "})\n",
    "query_vector['vectors'][0]"
   ]
  },
  {
   "cell_type": "markdown",
   "id": "5e92ea43",
   "metadata": {},
   "source": [
    "## Copy model extracts to local"
   ]
  },
  {
   "cell_type": "code",
   "execution_count": null,
   "id": "d0174036",
   "metadata": {},
   "outputs": [],
   "source": [
    "!aws s3 cp s3://sagemaker-us-east-1-445083327804/nlp-dualencoder/pytorch-training-2022-09-03-21-01-05-224/output/model.tar.gz ./\n",
    "!tar -xvzf model.tar.gz -C ./trained_bert_model_extract"
   ]
  },
  {
   "cell_type": "markdown",
   "id": "ab80280e",
   "metadata": {},
   "source": [
    "## Batch Transform the docs to vectors"
   ]
  },
  {
   "cell_type": "code",
   "execution_count": null,
   "id": "e49abf45",
   "metadata": {},
   "outputs": [],
   "source": [
    "from transformers import AutoTokenizer, AutoModelForSequenceClassification, BertModel\n",
    "import torch\n",
    "import torch.nn.functional as F\n",
    "import os\n",
    "\n",
    "from itertools import islice\n",
    "import math\n",
    "import pandas as pd\n",
    "from numpy.random import randint\n",
    "\n",
    "\n",
    "def take_(n, iterable):\n",
    "    \"Return first n items of the iterable as a list\"\n",
    "    return dict(islice(iterable, n))\n",
    "\n",
    "\n",
    "model_data='./trained_bert_model_extract'\n",
    "\n",
    "dataframe_list=[]\n",
    "cols = ['docs','bert_encoded_doc_vectors']\n",
    "\n",
    "tokenizer = AutoTokenizer.from_pretrained(model_data)\n",
    "model = BertModel.from_pretrained(model_data)\n",
    "\n",
    "### Now we read the MS Marco dataset\n",
    "data_folder = 'msmarco-data'\n",
    "\n",
    "#### Read the corpus files, that contain all the passages. Store them in the corpus dict\n",
    "corpus = {}         #dict in the format: passage_id -> passage. Stores all existent passages\n",
    "collection_filepath = os.path.join(data_folder, 'collection.tsv')\n",
    "if not os.path.exists(collection_filepath):\n",
    "    tar_filepath = os.path.join(data_folder, 'collection.tar.gz')\n",
    "    if not os.path.exists(tar_filepath):\n",
    "        logging.info(\"Download collection.tar.gz\")\n",
    "        util.http_get('https://msmarco.blob.core.windows.net/msmarcoranking/collection.tar.gz', tar_filepath)\n",
    "\n",
    "    with tarfile.open(tar_filepath, \"r:gz\") as tar:\n",
    "        tar.extractall(path=data_folder)\n",
    "\n",
    "logging.info(\"Read corpus: collection.tsv\")\n",
    "with open(collection_filepath, 'r', encoding='utf8') as fIn:\n",
    "    for line in fIn:\n",
    "        pid, passage = line.strip().split(\"\\t\")\n",
    "        pid = int(pid)\n",
    "        corpus[pid] = passage\n",
    "\n",
    "n_items = take_(2, corpus.items())\n",
    "\n",
    "print(n_items)\n",
    "\n",
    "for key in n_items.items():\n",
    "\n",
    "    tmp_list=[]\n",
    "    encoded_input = tokenizer(n_items[key[0]], padding=True, truncation=True, return_tensors='pt')[\"input_ids\"]\n",
    "    bert_encoded = model(encoded_input)[\"pooler_output\"].tolist()\n",
    "    tmp_list.append(n_items[key[0]])\n",
    "    tmp_list.append(bert_encoded[0])\n",
    "    print(tmp_list)\n",
    "    dataframe_list.append(tmp_list)\n",
    "transformed_dataframe = pd.DataFrame(dataframe_list, columns=cols)\n",
    "\n",
    "transformed_dataframe.to_csv('./transfromed_vectors.csv',index=False)\n",
    "!aws s3 cp ./transfromed_vectors.csv s3://sagemaker-us-east-1-445083327804/nlp-dualencoder/batch_output/"
   ]
  },
  {
   "cell_type": "markdown",
   "id": "9caceaed",
   "metadata": {},
   "source": [
    "## OpenSearch domain"
   ]
  },
  {
   "cell_type": "code",
   "execution_count": 75,
   "id": "d22107c2",
   "metadata": {},
   "outputs": [
    {
     "data": {
      "text/plain": [
       "<OpenSearch([{'host': 'vpc-opensearch-test-detvd5qf5kikn3o2tqy4owcd4a.us-east-1.es.amazonaws.com', 'port': 443}])>"
      ]
     },
     "execution_count": 75,
     "metadata": {},
     "output_type": "execute_result"
    }
   ],
   "source": [
    "import sagemaker\n",
    "import boto3\n",
    "\n",
    "\n",
    "\n",
    "\n",
    "sts_client = boto3.client('sts')\n",
    "\n",
    "# Call the assume_role method of the STSConnection object and pass the role\n",
    "# ARN and a role session name.\n",
    "\n",
    "assumed_role_object=sts_client.assume_role(\n",
    "    RoleArn=\"arn:aws:iam::445083327804:role/cfn-test-final-ExecutionRole-2ZY39TBJ6ED6\",\n",
    "    RoleSessionName=\"AssumeRoleSession1\"\n",
    ")\n",
    "\n",
    "# From the response that contains the assumed role, get the temporary \n",
    "# credentials that can be used to make subsequent API calls\n",
    "\n",
    "credentials=assumed_role_object['Credentials']\n",
    "\n",
    "\n",
    "session = boto3.Session(\n",
    "    aws_access_key_id=credentials['AccessKeyId'],\n",
    "    aws_secret_access_key=credentials['SecretAccessKey'],\n",
    "    aws_session_token=credentials['SessionToken']\n",
    ")\n",
    "\n",
    "credentials = session.get_credentials()\n",
    "#credentials = boto3.Session().get_credentials()\n",
    "\n",
    "\n",
    "# print(f\"sagemaker bucket: {sess.default_bucket()}\")\n",
    "# print(f\"sagemaker session region: {sess.boto_region_name}\")\n",
    "from opensearchpy import OpenSearch, RequestsHttpConnection, AWSV4SignerAuth\n",
    "import boto3\n",
    "\n",
    "#https://vpc-opensearch-test-detvd5qf5kikn3o2tqy4owcd4a.us-east-1.es.amazonaws.com\n",
    "\n",
    "host = 'vpc-search-bert-test5-tip3ulnz6lihzp37yymtpcjiqy.us-east-1.es.amazonaws.com'\n",
    "port = 443\n",
    "\n",
    "s3 = boto3.client('s3')\n",
    "import re\n",
    "import requests\n",
    "import json\n",
    "\n",
    "from requests_aws4auth import AWS4Auth\n",
    "endpoint = 'https://vpc-search-bert-test5-tip3ulnz6lihzp37yymtpcjiqy.us-east-1.es.amazonaws.com' # the proxy endpoint, including https://\n",
    "region = 'us-east-1' # e.g. us-west-1\n",
    "index = 'movies' # index name\n",
    "service = 'execute-api'\n",
    "#credentials = boto3.Session().get_credentials()\n",
    "awsauth = AWSV4SignerAuth(credentials, region)\n",
    "url = endpoint + '/' + index + '/_doc'\n",
    "headers = { \"Content-Type\": \"application/json\"\n",
    "}\n",
    "\n",
    "\n",
    "\n",
    "client = OpenSearch(\n",
    "    hosts = [{'host': host, 'port': 443}],\n",
    "    http_auth = awsauth,\n",
    "    use_ssl = True,\n",
    "    #verify_certs = True,\n",
    "    connection_class = RequestsHttpConnection\n",
    ")\n",
    "\n",
    "client\n",
    "\n"
   ]
  },
  {
   "cell_type": "markdown",
   "id": "60d9ef52",
   "metadata": {},
   "source": [
    "## create index and mapping"
   ]
  },
  {
   "cell_type": "code",
   "execution_count": 72,
   "id": "877132de",
   "metadata": {},
   "outputs": [
    {
     "name": "stdout",
     "output_type": "stream",
     "text": [
      "\n",
      "Creating index:\n",
      "{'acknowledged': True, 'shards_acknowledged': True, 'index': 'nlpindex_search_bert_19sep'}\n"
     ]
    }
   ],
   "source": [
    "index_name = 'nlpindex_search_bert_19sep'\n",
    "index_body = {\n",
    "  'settings': {\n",
    "    'index': {\n",
    "      'number_of_shards': 4,\n",
    "        'knn': True\n",
    "    }\n",
    "  },\n",
    "\n",
    "    'mappings': {\n",
    "       \n",
    "            'properties': {\n",
    "                'passage': {'type': 'text'},\n",
    "                \n",
    "               \"bert_vector\": {\n",
    "        \"type\": \"knn_vector\",\n",
    "        \"dimension\": 768\n",
    "      },\n",
    "            }}\n",
    "}\n",
    "\n",
    "\n",
    "response = client.indices.create(index_name, body=index_body)\n",
    "print('\\nCreating index:')\n",
    "print(response)\n",
    "\n"
   ]
  },
  {
   "cell_type": "markdown",
   "id": "16caeee8",
   "metadata": {},
   "source": [
    "## Index the document and vectors (Batch Transform)"
   ]
  },
  {
   "cell_type": "code",
   "execution_count": null,
   "id": "47da743c",
   "metadata": {},
   "outputs": [],
   "source": [
    "import pandas as pd\n",
    "import s3fs\n",
    "from ast import literal_eval\n",
    "\n",
    "df = pd.read_csv('s3://sagemaker-us-east-1-445083327804/nlp-dualencoder/batch_output/transfromed_vectors.csv')\n",
    "df\n",
    "\n",
    "df = df.reset_index()  # make sure indexes pair with number of rows\n",
    "\n",
    "for index, row in df.iterrows():\n",
    "    line={}\n",
    "    line['passage']=row['docs']\n",
    "    line['bert_vector']=literal_eval(row['bert_encoded_doc_vectors'])\n",
    "\n",
    "    response = client.index(\n",
    "    index = index_name,\n",
    "    body = line)\n",
    "    print(response)"
   ]
  },
  {
   "cell_type": "markdown",
   "id": "e2d7e35e",
   "metadata": {},
   "source": [
    "## Search the domain in realtime using sagemaker endpoint and lambda"
   ]
  },
  {
   "cell_type": "code",
   "execution_count": null,
   "id": "81101f9c",
   "metadata": {},
   "outputs": [],
   "source": [
    "query_vector = predictor.predict({\n",
    "\t'inputs': \"The answer to the universe is GOD.\"\n",
    "})\n",
    "\n",
    "q = 'miller'\n",
    "query = {\"query\":{\n",
    "  \"knn\": {\n",
    "      \"bert_vector\": {\n",
    "        \"vector\": query_vector['vectors'][0],\n",
    "        \"k\": 1\n",
    "      }\n",
    "    }\n",
    "}}\n",
    "\n",
    "\n",
    "response = client.search(\n",
    "    body = query,\n",
    "    index = index_name\n",
    ")\n",
    "print('\\nSearch results:')\n",
    "print(response)"
   ]
  },
  {
   "cell_type": "markdown",
   "id": "18e76a08",
   "metadata": {},
   "source": [
    "## Mini Search Engine"
   ]
  },
  {
   "cell_type": "code",
   "execution_count": 64,
   "id": "dc115866",
   "metadata": {},
   "outputs": [
    {
     "data": {
      "application/vnd.jupyter.widget-view+json": {
       "model_id": "074478673b4143548368f112e9e9b0c6",
       "version_major": 2,
       "version_minor": 0
      },
      "text/plain": [
       "Text(value='Search here!', description='Search:', placeholder='Search here!')"
      ]
     },
     "metadata": {},
     "output_type": "display_data"
    }
   ],
   "source": [
    "from ipywidgets import interact, widgets\n",
    "from IPython.display import display\n",
    "import boto3\n",
    "import json\n",
    "from ast import literal_eval\n",
    "lambda_client = boto3.client('lambda')\n",
    "\n",
    "text = widgets.Text(\n",
    "    value='Search here!',\n",
    "    placeholder='Search here!',\n",
    "    description='Search:',\n",
    "    disabled=False\n",
    ")\n",
    "\n",
    "text.style._view_name = '100px'\n",
    "\n",
    "display(text)\n",
    "\n",
    "def callback(wdgt):\n",
    "    lambda_payload_ = json.dumps({\"inputs\": wdgt.value})\n",
    "\n",
    "    res = lambda_client.invoke(FunctionName='sagemaker-access-endpoints', \n",
    "                     InvocationType='RequestResponse',\n",
    "                     Payload=lambda_payload_)\n",
    "    res=literal_eval(res['Payload'].read().decode())\n",
    "    \n",
    "    \n",
    "\n",
    "    q = 'miller'\n",
    "    query = {\"query\":{\n",
    "    \"knn\": {\n",
    "      \"bert_vector\": {\n",
    "        \"vector\": res,\n",
    "        \"k\": 1\n",
    "      }\n",
    "        }\n",
    "    }}\n",
    "\n",
    "\n",
    "    response = client.search(\n",
    "    body = query,\n",
    "    index = 'nlpindex_search_bert_14sep'\n",
    "    )\n",
    "    result = {}\n",
    "    result['doc']=response['hits']['hits'][0]['_source']['passage']\n",
    "    result['score']=response['hits']['hits'][0]['_score']\n",
    "    display(result)\n",
    "\n",
    "text.on_submit(callback)"
   ]
  },
  {
   "cell_type": "code",
   "execution_count": 79,
   "id": "0991ba81",
   "metadata": {},
   "outputs": [
    {
     "name": "stdout",
     "output_type": "stream",
     "text": [
      "  adding: lost+found/ (stored 0%)\n",
      "  adding: code/ (stored 0%)\n",
      "  adding: code/inference.py (deflated 53%)\n",
      "  adding: code/nlp_loader_test.py (deflated 66%)\n",
      "  adding: code/nlp-dualEncoder.py (deflated 69%)\n",
      "  adding: transfromed_vectors.csv (deflated 53%)\n",
      "  adding: Untitled.ipynb (deflated 70%)\n",
      "  adding: model.tar.gz (deflated 0%)\n",
      "  adding: .ipynb_checkpoints/ (stored 0%)\n",
      "  adding: .ipynb_checkpoints/Untitled-checkpoint.ipynb (deflated 74%)\n",
      "  adding: .ipynb_checkpoints/sagemaker-dualencoder-training-msmarco-checkpoint.ipynb (deflated 46%)\n",
      "  adding: .sparkmagic/ (stored 0%)\n",
      "  adding: amazon-sagemaker-workshop-for-huggingface/ (stored 0%)\n",
      "  adding: amazon-sagemaker-workshop-for-huggingface/inference/ (stored 0%)\n",
      "  adding: amazon-sagemaker-workshop-for-huggingface/inference/lab2_deploy_transformer_batch_from_s3/ (stored 0%)\n",
      "  adding: amazon-sagemaker-workshop-for-huggingface/inference/lab2_deploy_transformer_batch_from_s3/deploy_transformer_batch_from_s3.ipynb (deflated 71%)\n",
      "  adding: amazon-sagemaker-workshop-for-huggingface/inference/bonus/ (stored 0%)\n",
      "  adding: amazon-sagemaker-workshop-for-huggingface/inference/bonus/deploy_transformer_async_from_s3.ipynb (deflated 75%)\n",
      "  adding: amazon-sagemaker-workshop-for-huggingface/inference/bonus/deploy_transformer_model_from_hf_hub.ipynb (deflated 66%)\n",
      "  adding: amazon-sagemaker-workshop-for-huggingface/inference/lab1_deploy_transformer_model_from_s3/ (stored 0%)\n",
      "  adding: amazon-sagemaker-workshop-for-huggingface/inference/lab1_deploy_transformer_model_from_s3/deploy_transformer_model_from_s3.ipynb (deflated 73%)\n",
      "  adding: amazon-sagemaker-workshop-for-huggingface/training/ (stored 0%)\n",
      "  adding: amazon-sagemaker-workshop-for-huggingface/training/lab1_default_training/ (stored 0%)\n",
      "  adding: amazon-sagemaker-workshop-for-huggingface/training/lab1_default_training/train_transformer_model.ipynb (deflated 73%)\n",
      "  adding: amazon-sagemaker-workshop-for-huggingface/training/scripts/ (stored 0%)\n",
      "  adding: amazon-sagemaker-workshop-for-huggingface/training/scripts/train.py (deflated 67%)\n",
      "  adding: amazon-sagemaker-workshop-for-huggingface/training/lab2_distributed_training/ (stored 0%)\n",
      "  adding: amazon-sagemaker-workshop-for-huggingface/training/lab2_distributed_training/distributed_training_transformer_model.ipynb (deflated 32%)\n",
      "  adding: amazon-sagemaker-workshop-for-huggingface/training/data/ (stored 0%)\n",
      "  adding: amazon-sagemaker-workshop-for-huggingface/training/data/create_dataset.py (deflated 60%)\n",
      "  adding: amazon-sagemaker-workshop-for-huggingface/training/README.MD (deflated 29%)\n",
      "  adding: amazon-sagemaker-workshop-for-huggingface/CODE_OF_CONDUCT.md (deflated 39%)\n",
      "  adding: amazon-sagemaker-workshop-for-huggingface/README.md (deflated 58%)\n",
      "  adding: amazon-sagemaker-workshop-for-huggingface/imgs/ (stored 0%)\n",
      "  adding: amazon-sagemaker-workshop-for-huggingface/imgs/setup7.png (deflated 15%)\n",
      "  adding: amazon-sagemaker-workshop-for-huggingface/imgs/setup2.png (deflated 14%)\n",
      "  adding: amazon-sagemaker-workshop-for-huggingface/imgs/pytorch.png (deflated 5%)\n",
      "  adding: amazon-sagemaker-workshop-for-huggingface/imgs/change-kernel.png (deflated 8%)\n",
      "  adding: amazon-sagemaker-workshop-for-huggingface/imgs/setup11.png (deflated 4%)\n",
      "  adding: amazon-sagemaker-workshop-for-huggingface/imgs/ds-kernel.png (deflated 6%)\n",
      "  adding: amazon-sagemaker-workshop-for-huggingface/imgs/e2e.png (deflated 4%)\n",
      "  adding: amazon-sagemaker-workshop-for-huggingface/imgs/setup6.png (deflated 10%)\n",
      "  adding: amazon-sagemaker-workshop-for-huggingface/imgs/setup10.png (deflated 7%)\n",
      "  adding: amazon-sagemaker-workshop-for-huggingface/imgs/setup4.png (deflated 20%)\n",
      "  adding: amazon-sagemaker-workshop-for-huggingface/imgs/setup8.png (deflated 10%)\n",
      "  adding: amazon-sagemaker-workshop-for-huggingface/imgs/setup3.png (deflated 19%)\n",
      "  adding: amazon-sagemaker-workshop-for-huggingface/imgs/setup5.png (deflated 17%)\n",
      "  adding: amazon-sagemaker-workshop-for-huggingface/imgs/setup9.png (deflated 10%)\n",
      "  adding: amazon-sagemaker-workshop-for-huggingface/LICENSE (deflated 39%)\n",
      "  adding: amazon-sagemaker-workshop-for-huggingface/.git/ (stored 0%)\n",
      "  adding: amazon-sagemaker-workshop-for-huggingface/.git/objects/ (stored 0%)\n",
      "  adding: amazon-sagemaker-workshop-for-huggingface/.git/objects/info/ (stored 0%)\n",
      "  adding: amazon-sagemaker-workshop-for-huggingface/.git/objects/pack/ (stored 0%)\n",
      "  adding: amazon-sagemaker-workshop-for-huggingface/.git/objects/pack/pack-505627e9472d579496529894b29eb3686d5cda15.idx (deflated 15%)\n",
      "  adding: amazon-sagemaker-workshop-for-huggingface/.git/objects/pack/pack-505627e9472d579496529894b29eb3686d5cda15.pack (deflated 0%)\n",
      "  adding: amazon-sagemaker-workshop-for-huggingface/.git/info/ (stored 0%)\n",
      "  adding: amazon-sagemaker-workshop-for-huggingface/.git/info/exclude (deflated 28%)\n",
      "  adding: amazon-sagemaker-workshop-for-huggingface/.git/logs/ (stored 0%)\n",
      "  adding: amazon-sagemaker-workshop-for-huggingface/.git/logs/HEAD (deflated 26%)\n",
      "  adding: amazon-sagemaker-workshop-for-huggingface/.git/logs/refs/ (stored 0%)\n",
      "  adding: amazon-sagemaker-workshop-for-huggingface/.git/logs/refs/remotes/ (stored 0%)\n",
      "  adding: amazon-sagemaker-workshop-for-huggingface/.git/logs/refs/remotes/origin/ (stored 0%)\n",
      "  adding: amazon-sagemaker-workshop-for-huggingface/.git/logs/refs/remotes/origin/HEAD (deflated 26%)\n",
      "  adding: amazon-sagemaker-workshop-for-huggingface/.git/logs/refs/heads/ (stored 0%)\n",
      "  adding: amazon-sagemaker-workshop-for-huggingface/.git/logs/refs/heads/main (deflated 26%)\n",
      "  adding: amazon-sagemaker-workshop-for-huggingface/.git/packed-refs (deflated 10%)\n",
      "  adding: amazon-sagemaker-workshop-for-huggingface/.git/hooks/ (stored 0%)\n",
      "  adding: amazon-sagemaker-workshop-for-huggingface/.git/hooks/pre-receive.sample (deflated 40%)\n",
      "  adding: amazon-sagemaker-workshop-for-huggingface/.git/hooks/pre-rebase.sample (deflated 59%)\n",
      "  adding: amazon-sagemaker-workshop-for-huggingface/.git/hooks/applypatch-msg.sample (deflated 42%)\n",
      "  adding: amazon-sagemaker-workshop-for-huggingface/.git/hooks/push-to-checkout.sample (deflated 55%)\n",
      "  adding: amazon-sagemaker-workshop-for-huggingface/.git/hooks/update.sample (deflated 68%)\n",
      "  adding: amazon-sagemaker-workshop-for-huggingface/.git/hooks/pre-push.sample (deflated 49%)\n",
      "  adding: amazon-sagemaker-workshop-for-huggingface/.git/hooks/pre-applypatch.sample (deflated 38%)\n",
      "  adding: amazon-sagemaker-workshop-for-huggingface/.git/hooks/post-update.sample (deflated 27%)\n",
      "  adding: amazon-sagemaker-workshop-for-huggingface/.git/hooks/fsmonitor-watchman.sample (deflated 62%)\n",
      "  adding: amazon-sagemaker-workshop-for-huggingface/.git/hooks/commit-msg.sample (deflated 44%)\n",
      "  adding: amazon-sagemaker-workshop-for-huggingface/.git/hooks/prepare-commit-msg.sample (deflated 50%)\n",
      "  adding: amazon-sagemaker-workshop-for-huggingface/.git/hooks/pre-commit.sample (deflated 45%)\n",
      "  adding: amazon-sagemaker-workshop-for-huggingface/.git/hooks/pre-merge-commit.sample (deflated 39%)\n",
      "  adding: amazon-sagemaker-workshop-for-huggingface/.git/config (deflated 33%)\n",
      "  adding: amazon-sagemaker-workshop-for-huggingface/.git/index (deflated 49%)\n",
      "  adding: amazon-sagemaker-workshop-for-huggingface/.git/HEAD (stored 0%)\n",
      "  adding: amazon-sagemaker-workshop-for-huggingface/.git/description (deflated 14%)\n",
      "  adding: amazon-sagemaker-workshop-for-huggingface/.git/branches/ (stored 0%)\n",
      "  adding: amazon-sagemaker-workshop-for-huggingface/.git/refs/ (stored 0%)\n",
      "  adding: amazon-sagemaker-workshop-for-huggingface/.git/refs/remotes/ (stored 0%)\n",
      "  adding: amazon-sagemaker-workshop-for-huggingface/.git/refs/remotes/origin/ (stored 0%)\n",
      "  adding: amazon-sagemaker-workshop-for-huggingface/.git/refs/remotes/origin/HEAD (stored 0%)\n",
      "  adding: amazon-sagemaker-workshop-for-huggingface/.git/refs/heads/ (stored 0%)\n",
      "  adding: amazon-sagemaker-workshop-for-huggingface/.git/refs/heads/main (stored 0%)\n",
      "  adding: amazon-sagemaker-workshop-for-huggingface/.git/refs/tags/ (stored 0%)\n",
      "  adding: amazon-sagemaker-workshop-for-huggingface/CONTRIBUTING.md (deflated 54%)\n",
      "  adding: msmarco-data/ (stored 0%)\n",
      "  adding: msmarco-data/collection.tsv\n",
      "zip I/O error: No space left on device\n",
      "zip error: Output file write failure (write error on zip file)\n"
     ]
    }
   ],
   "source": [
    "!zip -r temp.zip ./"
   ]
  },
  {
   "cell_type": "code",
   "execution_count": 80,
   "id": "7b8d6f6c",
   "metadata": {},
   "outputs": [
    {
     "name": "stdout",
     "output_type": "stream",
     "text": [
      "rm: remove write-protected regular file ‘./amazon-sagemaker-workshop-for-huggingface/.git/objects/pack/pack-505627e9472d579496529894b29eb3686d5cda15.idx’? ^C\n"
     ]
    }
   ],
   "source": [
    "!rm -r ./amazon-sagemaker-workshop-for-huggingface"
   ]
  },
  {
   "cell_type": "code",
   "execution_count": null,
   "id": "d3f80a54",
   "metadata": {},
   "outputs": [],
   "source": []
  }
 ],
 "metadata": {
  "kernelspec": {
   "display_name": "conda_amazonei_pytorch_latest_p37",
   "language": "python",
   "name": "conda_amazonei_pytorch_latest_p37"
  },
  "language_info": {
   "codemirror_mode": {
    "name": "ipython",
    "version": 3
   },
   "file_extension": ".py",
   "mimetype": "text/x-python",
   "name": "python",
   "nbconvert_exporter": "python",
   "pygments_lexer": "ipython3",
   "version": "3.7.12"
  }
 },
 "nbformat": 4,
 "nbformat_minor": 5
}
